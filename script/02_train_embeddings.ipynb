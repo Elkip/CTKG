{
 "cells": [
  {
   "cell_type": "markdown",
   "metadata": {},
   "source": [
    "# Training CTKG Using TransE_L2\n",
    "Adapted from the notebook of DRKG: https://github.com/gnn4dr/DRKG\n",
    "This notebook shows how to train CTKG embeddings using TransE_L2"
   ]
  },
  {
   "cell_type": "markdown",
   "metadata": {},
   "source": [
    "## Install DGL-KE\n",
    "Before training the model, we need to install dgl and dgl-ke packages as well as other dependencies. "
   ]
  },
  {
   "cell_type": "code",
   "execution_count": 9,
   "metadata": {
    "scrolled": true
   },
   "outputs": [
    {
     "data": {
      "text/plain": [
       "[]"
      ]
     },
     "execution_count": 9,
     "metadata": {},
     "output_type": "execute_result"
    }
   ],
   "source": [
    "import GPUtil\n",
    "GPUtil.getAvailable()"
   ]
  },
  {
   "cell_type": "markdown",
   "metadata": {},
   "source": [
    "## Prepare train/valid/test set\n",
    "Before training, we need to split the original ctkg into train/valid/test set with a 9:0.5:0.5 manner."
   ]
  },
  {
   "cell_type": "code",
   "execution_count": 1,
   "metadata": {},
   "outputs": [],
   "source": [
    "import pandas as pd\n",
    "import numpy as np\n",
    "import sys\n",
    "sys.path.insert(1, '../utils')\n",
    "ctkg_file = '../rawdata/ctkg.tsv'\n",
    "\n",
    "df = pd.read_csv(ctkg_file, sep=\"\\t\")\n",
    "triples = df.values.tolist()"
   ]
  },
  {
   "cell_type": "code",
   "execution_count": 2,
   "metadata": {
    "scrolled": false
   },
   "outputs": [
    {
     "data": {
      "text/plain": [
       "7322993"
      ]
     },
     "execution_count": 2,
     "metadata": {},
     "output_type": "execute_result"
    }
   ],
   "source": [
    "num_triples = len(triples)\n",
    "num_triples"
   ]
  },
  {
   "cell_type": "code",
   "execution_count": 3,
   "metadata": {},
   "outputs": [],
   "source": [
    "# Please make sure the output directory exist.\n",
    "seed = np.arange(num_triples)\n",
    "np.random.shuffle(seed)\n",
    "\n",
    "train_cnt = int(num_triples * 0.9)\n",
    "valid_cnt = int(num_triples * 0.05)\n",
    "train_set = seed[:train_cnt]\n",
    "train_set = train_set.tolist()\n",
    "valid_set = seed[train_cnt:train_cnt+valid_cnt].tolist()\n",
    "test_set = seed[train_cnt+valid_cnt:].tolist()\n",
    "\n",
    "with open(\"../train/ctkg_train.tsv\", 'w+') as f:\n",
    "    for idx in train_set:\n",
    "        f.writelines(\"{}\\t{}\\t{}\\n\".format(triples[idx][0], triples[idx][1], triples[idx][2]))\n",
    "        \n",
    "with open(\"../train/ctkg_valid.tsv\", 'w+') as f:\n",
    "    for idx in valid_set:\n",
    "        f.writelines(\"{}\\t{}\\t{}\\n\".format(triples[idx][0], triples[idx][1], triples[idx][2]))\n",
    "\n",
    "with open(\"../train/ctkg_test.tsv\", 'w+') as f:\n",
    "    for idx in test_set:\n",
    "        f.writelines(\"{}\\t{}\\t{}\\n\".format(triples[idx][0], triples[idx][1], triples[idx][2]))"
   ]
  },
  {
   "cell_type": "markdown",
   "metadata": {},
   "source": [
    "## Training TransE_l2 model\n",
    "We can training the TransE_l2 model by simplying using DGL-KE command line. For more information about using DGL-KE please refer to https://github.com/awslabs/dgl-ke."
   ]
  },
  {
   "cell_type": "code",
   "execution_count": 4,
   "metadata": {},
   "outputs": [],
   "source": [
    "import dgl\n",
    "import dglke"
   ]
  },
  {
   "cell_type": "code",
   "execution_count": 5,
   "metadata": {},
   "outputs": [
    {
     "name": "stdout",
     "output_type": "stream",
     "text": [
      "Reading train triples....\n",
      "Finished. Read 6590693 train triples.\n",
      "Reading valid triples....\n",
      "Finished. Read 366149 valid triples.\n",
      "Reading test triples....\n",
      "Finished. Read 366151 test triples.\n",
      "|Train|: 6590693\n",
      "random partition 6590693 edges into 16 parts\n",
      "part 0 has 411919 edges\n",
      "part 1 has 411919 edges\n",
      "part 2 has 411919 edges\n",
      "part 3 has 411919 edges\n",
      "part 4 has 411919 edges\n",
      "part 5 has 411919 edges\n",
      "part 6 has 411919 edges\n",
      "part 7 has 411919 edges\n",
      "part 8 has 411919 edges\n",
      "part 9 has 411919 edges\n",
      "part 10 has 411919 edges\n",
      "part 11 has 411919 edges\n",
      "part 12 has 411919 edges\n",
      "part 13 has 411919 edges\n",
      "part 14 has 411919 edges\n",
      "part 15 has 411908 edges\n",
      "/home/henscm01/.local/lib/python3.8/site-packages/dgl/base.py:25: UserWarning: multigraph will be deprecated.DGL will treat all graphs as multigraph in the future.\n",
      "  warnings.warn(msg, warn_type)\n",
      "|valid|: 366149\n",
      "|test|: 366151\n"
     ]
    }
   ],
   "source": [
    "!DGLBACKEND=pytorch  ~/.local/bin/dglke_train --dataset CTKG --data_path ../train --data_files \\\n",
    "    ctkg_train.tsv ctkg_valid.tsv ctkg_test.tsv --format 'raw_udd_hrt' --model_name TransE_l2 --batch_size 2048 \\\n",
    "--neg_sample_size 256 --hidden_dim 200 --gamma 12.0 --lr 0.1 --max_step 200 --log_interval 1000 \\\n",
    "--batch_size_eval 16 -adv --regularization_coef 1.00E-07 --test --num_thread 1 --num_proc 16 \\\n",
    "--neg_sample_size_eval 1000"
   ]
  },
  {
   "cell_type": "markdown",
   "metadata": {},
   "source": [
    "## Get Entity and Relation Embeddings\n",
    "The resulting model, i.e., the entity and relation embeddings can be found under ./ckpts. (Please refer to the first line of the training log for the specific location.)\n",
    "\n",
    "The overall process will generate 4 important files:\n",
    "\n",
    "  - Entity embedding: ./ckpts/<model\\_name>_<dataset\\_name>_<run_\\id>/xxx\\_entity.npy\n",
    "  - Relation embedding: ./ckpts/<model\\_name>_<dataset\\_name>_<run\\_id>/xxx\\_relation.npy\n",
    "  - The entity id mapping, formated in <entity\\_name> <entity\\_id> pair: <data\\_path>/entities.tsv\n",
    "  - The relation id mapping, formated in <relation\\_name> <relation\\_id> pair: <data\\_path>/relations.tsv"
   ]
  },
  {
   "cell_type": "code",
   "execution_count": 6,
   "metadata": {},
   "outputs": [
    {
     "name": "stdout",
     "output_type": "stream",
     "text": [
      "TransE_l2_CTKG_0  TransE_l2_CTKG_2  TransE_l2_CTKG_4\r\n",
      "TransE_l2_CTKG_1  TransE_l2_CTKG_3\r\n"
     ]
    }
   ],
   "source": [
    "!ls ./ckpts"
   ]
  },
  {
   "cell_type": "code",
   "execution_count": 9,
   "metadata": {},
   "outputs": [
    {
     "name": "stdout",
     "output_type": "stream",
     "text": [
      "./ckpts/TransE_l2_CTKG_0:\r\n",
      "total 8\r\n",
      "drwxrwxr-x 2 nobody nobody 4096 Dec 19 21:54 .\r\n",
      "drwxrwxr-x 7 nobody nobody 4096 Dec 20 18:55 ..\r\n",
      "\r\n",
      "./ckpts/TransE_l2_CTKG_1:\r\n",
      "total 8\r\n",
      "drwxrwxr-x 2 nobody nobody 4096 Dec 19 21:55 .\r\n",
      "drwxrwxr-x 7 nobody nobody 4096 Dec 20 18:55 ..\r\n",
      "\r\n",
      "./ckpts/TransE_l2_CTKG_2:\r\n",
      "total 8\r\n",
      "drwxrwxr-x 2 nobody nobody 4096 Dec 20 17:59 .\r\n",
      "drwxrwxr-x 7 nobody nobody 4096 Dec 20 18:55 ..\r\n",
      "\r\n",
      "./ckpts/TransE_l2_CTKG_3:\r\n",
      "total 8\r\n",
      "drwxrwxr-x 2 nobody nobody 4096 Dec 20 18:29 .\r\n",
      "drwxrwxr-x 7 nobody nobody 4096 Dec 20 18:55 ..\r\n",
      "\r\n",
      "./ckpts/TransE_l2_CTKG_4:\r\n",
      "total 8\r\n",
      "drwxrwxr-x 2 nobody nobody 4096 Dec 20 18:55 .\r\n",
      "drwxrwxr-x 7 nobody nobody 4096 Dec 20 18:55 ..\r\n"
     ]
    }
   ],
   "source": [
    "!ls -la ./ckpts/TransE_l2_CTKG_*"
   ]
  },
  {
   "cell_type": "code",
   "execution_count": 8,
   "metadata": {},
   "outputs": [
    {
     "name": "stdout",
     "output_type": "stream",
     "text": [
      "ctkg_test.tsv  ctkg_train.tsv  ctkg_valid.tsv  entities.tsv  relations.tsv\r\n"
     ]
    }
   ],
   "source": [
    "!ls ../train/"
   ]
  },
  {
   "cell_type": "markdown",
   "metadata": {},
   "source": [
    "## A Glance of the Entity and Relation Embeddings"
   ]
  },
  {
   "cell_type": "code",
   "execution_count": 8,
   "metadata": {},
   "outputs": [
    {
     "ename": "FileNotFoundError",
     "evalue": "[Errno 2] No such file or directory: './ckpts/TransE_l2_DRKG_0/DRKG_TransE_l2_entity.npy'",
     "output_type": "error",
     "traceback": [
      "\u001b[0;31m---------------------------------------------------------------------------\u001b[0m",
      "\u001b[0;31mFileNotFoundError\u001b[0m                         Traceback (most recent call last)",
      "Input \u001b[0;32mIn [8]\u001b[0m, in \u001b[0;36m<cell line: 1>\u001b[0;34m()\u001b[0m\n\u001b[0;32m----> 1\u001b[0m node_emb \u001b[38;5;241m=\u001b[39m \u001b[43mnp\u001b[49m\u001b[38;5;241;43m.\u001b[39;49m\u001b[43mload\u001b[49m\u001b[43m(\u001b[49m\u001b[38;5;124;43m'\u001b[39;49m\u001b[38;5;124;43m./ckpts/TransE_l2_DRKG_0/DRKG_TransE_l2_entity.npy\u001b[39;49m\u001b[38;5;124;43m'\u001b[39;49m\u001b[43m)\u001b[49m\n\u001b[1;32m      2\u001b[0m relation_emb \u001b[38;5;241m=\u001b[39m np\u001b[38;5;241m.\u001b[39mload(\u001b[38;5;124m'\u001b[39m\u001b[38;5;124m./ckpts/TransE_l2_DRKG_0/DRKG_TransE_l2_relation.npy\u001b[39m\u001b[38;5;124m'\u001b[39m)\n\u001b[1;32m      4\u001b[0m \u001b[38;5;28mprint\u001b[39m(node_emb\u001b[38;5;241m.\u001b[39mshape)\n",
      "File \u001b[0;32m/opt/python/3.8.0/lib/python3.8/site-packages/numpy/lib/npyio.py:417\u001b[0m, in \u001b[0;36mload\u001b[0;34m(file, mmap_mode, allow_pickle, fix_imports, encoding)\u001b[0m\n\u001b[1;32m    415\u001b[0m     own_fid \u001b[38;5;241m=\u001b[39m \u001b[38;5;28;01mFalse\u001b[39;00m\n\u001b[1;32m    416\u001b[0m \u001b[38;5;28;01melse\u001b[39;00m:\n\u001b[0;32m--> 417\u001b[0m     fid \u001b[38;5;241m=\u001b[39m stack\u001b[38;5;241m.\u001b[39menter_context(\u001b[38;5;28;43mopen\u001b[39;49m\u001b[43m(\u001b[49m\u001b[43mos_fspath\u001b[49m\u001b[43m(\u001b[49m\u001b[43mfile\u001b[49m\u001b[43m)\u001b[49m\u001b[43m,\u001b[49m\u001b[43m \u001b[49m\u001b[38;5;124;43m\"\u001b[39;49m\u001b[38;5;124;43mrb\u001b[39;49m\u001b[38;5;124;43m\"\u001b[39;49m\u001b[43m)\u001b[49m)\n\u001b[1;32m    418\u001b[0m     own_fid \u001b[38;5;241m=\u001b[39m \u001b[38;5;28;01mTrue\u001b[39;00m\n\u001b[1;32m    420\u001b[0m \u001b[38;5;66;03m# Code to distinguish from NumPy binary files and pickles.\u001b[39;00m\n",
      "\u001b[0;31mFileNotFoundError\u001b[0m: [Errno 2] No such file or directory: './ckpts/TransE_l2_DRKG_0/DRKG_TransE_l2_entity.npy'"
     ]
    }
   ],
   "source": [
    "node_emb = np.load('./ckpts/TransE_l2_DRKG_0/DRKG_TransE_l2_entity.npy')\n",
    "relation_emb = np.load('./ckpts/TransE_l2_DRKG_0/DRKG_TransE_l2_relation.npy')\n",
    "\n",
    "print(node_emb.shape)\n",
    "print(relation_emb.shape)"
   ]
  }
 ],
 "metadata": {
  "kernelspec": {
   "display_name": "Python 3 (ipykernel)",
   "language": "python",
   "name": "python3"
  },
  "language_info": {
   "codemirror_mode": {
    "name": "ipython",
    "version": 3
   },
   "file_extension": ".py",
   "mimetype": "text/x-python",
   "name": "python",
   "nbconvert_exporter": "python",
   "pygments_lexer": "ipython3",
   "version": "3.8.0"
  }
 },
 "nbformat": 4,
 "nbformat_minor": 2
}
