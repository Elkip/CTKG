{
 "cells": [
  {
   "cell_type": "code",
   "execution_count": null,
   "id": "c899f4c9",
   "metadata": {},
   "outputs": [],
   "source": [
    "import pandas as pd\n",
    "import numpy as np\n",
    "import os\n",
    "import csv\n",
    "import pdb"
   ]
  },
  {
   "cell_type": "code",
   "execution_count": null,
   "id": "8a7a4fef",
   "metadata": {},
   "outputs": [],
   "source": [
    "type_of_interest_source = 'Condition'\n",
    "type_of_interest_target = 'Term'\n",
    "\n",
    "def indexing(type_of_interest):\n",
    "\n",
    "    entity2id  = {}\n",
    "    id2entity  = {}\n",
    "    cid2entity = {}\n",
    "\n",
    "    cid = 0\n",
    "    with open(\"./train/entities.tsv\", newline='', encoding='utf-8') as csvfile:\n",
    "        reader = csv.DictReader(csvfile, delimiter='\\t', fieldnames=['id','entity'])\n",
    "        for row_val in reader:\n",
    "            type = row_val['entity'].split('::')[0]\n",
    "            if type != type_of_interest:\n",
    "                continue\n",
    "        \n",
    "            id = row_val['id']\n",
    "            entity = row_val['entity']\n",
    "\n",
    "            entity2id[entity] = int(id)\n",
    "            id2entity[int(id)] = entity\n",
    "            cid2entity[cid] = entity\n",
    "            cid += 1\n",
    "\n",
    "    print(\"Number of entities in the type: {}\".format(len(entity2id)))\n",
    "    return entity2id, id2entity, cid2entity\n",
    "\n",
    "entity2id_s, id2entity_s, cid2entity_s = indexing(type_of_interest_source)\n",
    "entity2id_t, id2entity_t, cid2entity_t = indexing(type_of_interest_target)"
   ]
  },
  {
   "cell_type": "code",
   "execution_count": null,
   "id": "7d77fc1a",
   "metadata": {},
   "outputs": [],
   "source": [
    "def get_entity_name_mapping(type_of_interest):\n",
    "    \n",
    "    attribute_file = '/fs/ess/PAS1440/ziqichen/AACT/build_graph/attributes/' + type_of_interest.lower()+'_attribute.txt'\n",
    "    entity2name = {}\n",
    "    \n",
    "    with open(attribute_file, 'r') as f:\n",
    "        for line in f.readlines():\n",
    "            idx, _, name = line.rstrip('\\n').split(',', 2)\n",
    "            idx = idx.replace(':', '::').replace('ID', '')\n",
    "            entity2name[idx] = name\n",
    "    \n",
    "    return entity2name"
   ]
  },
  {
   "cell_type": "code",
   "execution_count": null,
   "id": "74e64e3c",
   "metadata": {},
   "outputs": [],
   "source": [
    "entity2name_s = get_entity_name_mapping(type_of_interest_source) if type_of_interest_source != 'Study' else None\n",
    "entity2name_t = get_entity_name_mapping(type_of_interest_target) if type_of_interest_target != 'Study' else None"
   ]
  },
  {
   "cell_type": "code",
   "execution_count": null,
   "id": "b0298700",
   "metadata": {},
   "outputs": [],
   "source": [
    "entity_emb = np.load('./ckpts/results_in_paper/CTKG_TransE_l2_entity.npy')\n",
    "\n",
    "idx_s = np.asarray(list(id2entity_s.keys()), dtype=int)\n",
    "entity_emb_s = entity_emb[idx_s]\n",
    "\n",
    "idx_t = np.asarray(list(id2entity_t.keys()), dtype=int)\n",
    "entity_emb_t = entity_emb[idx_t]\n",
    "\n",
    "print(entity_emb_s.shape)\n",
    "print(entity_emb_t.shape)"
   ]
  },
  {
   "cell_type": "code",
   "execution_count": null,
   "id": "abc7d9d4",
   "metadata": {},
   "outputs": [],
   "source": [
    "from sklearn.metrics.pairwise import cosine_similarity\n",
    "\n",
    "similarity = cosine_similarity(entity_emb_s, entity_emb_t)\n",
    "# cleanup self-compare and dup-compare\n",
    "s = similarity < 0.99\n",
    "s = np.unique(similarity[s])"
   ]
  },
  {
   "cell_type": "code",
   "execution_count": null,
   "id": "63a0b6b9",
   "metadata": {
    "scrolled": true
   },
   "outputs": [],
   "source": [
    "import matplotlib.pyplot as plt\n",
    "plt.xlabel('Cosine similarity')\n",
    "plt.ylabel('Number of entity pairs')\n",
    "plt.hist(s)\n",
    "plt.show()"
   ]
  },
  {
   "cell_type": "code",
   "execution_count": null,
   "id": "b4cfed36",
   "metadata": {},
   "outputs": [],
   "source": [
    "from sklearn.metrics.pairwise import cosine_similarity\n",
    "\n",
    "similarity = cosine_similarity(entity_emb_s, entity_emb_t)\n",
    "print(similarity.shape)\n",
    "idx = np.flip(np.argsort(similarity), axis=1)\n",
    "\n",
    "max_pairs = []\n",
    "for i in range(idx.shape[0]):\n",
    "    j = 1\n",
    "    while (similarity[i][idx[i][j]] > 0.5):\n",
    "        if type_of_interest_source == 'Study':\n",
    "            max_pairs.append((cid2entity_s[idx[i][0]], entity2name_t[cid2entity_t[idx[i][j]]], similarity[i][idx[i][j]]))\n",
    "        else:\n",
    "            max_pairs.append((entity2name_s[cid2entity_s[i]], entity2name_t[cid2entity_t[idx[i][j]]], similarity[i][idx[i][j]]))\n",
    "        j += 1\n",
    "\n",
    "def sort_score(pair):\n",
    "    return pair[2]\n",
    "\n",
    "max_pairs.sort(reverse=True, key=sort_score)\n",
    "sim_pairs = []\n",
    "for i, pair in enumerate(max_pairs):\n",
    "    if i % 2 == 0:\n",
    "        sim_pairs.append(pair)\n",
    "\n",
    "sim_pairs[:20]"
   ]
  },
  {
   "cell_type": "code",
   "execution_count": null,
   "id": "b19ebd39",
   "metadata": {},
   "outputs": [],
   "source": [
    "#sim_pairs[20:40]"
   ]
  },
  {
   "cell_type": "code",
   "execution_count": null,
   "id": "614ee92e",
   "metadata": {},
   "outputs": [],
   "source": [
    "#sim_pairs[40:60]"
   ]
  },
  {
   "cell_type": "code",
   "execution_count": null,
   "id": "6be36a67",
   "metadata": {},
   "outputs": [],
   "source": [
    "#max_pairs[:10]"
   ]
  },
  {
   "cell_type": "code",
   "execution_count": null,
   "id": "f61e32c1-4f59-4825-9290-3f908e4311c9",
   "metadata": {},
   "outputs": [],
   "source": [
    "similarity.mean()"
   ]
  },
  {
   "cell_type": "code",
   "execution_count": null,
   "id": "8355c936-36bc-4276-8803-5f7028d37703",
   "metadata": {},
   "outputs": [],
   "source": [
    "#max_pairs[1]"
   ]
  },
  {
   "cell_type": "code",
   "execution_count": null,
   "id": "205e7bd6-cbd9-4362-8ec8-2df96c2cbdb8",
   "metadata": {},
   "outputs": [],
   "source": [
    "#max_pairs[1][0]"
   ]
  },
  {
   "cell_type": "code",
   "execution_count": null,
   "id": "0204f235-2dc2-4447-8004-8290b535a5d6",
   "metadata": {},
   "outputs": [],
   "source": [
    "#for i, pair in enumerate(max_pairs):\n",
    "#    if pair[0] == 'Study::NCT00782210' and pair[2] > 0.7:\n",
    "#        print(pair)"
   ]
  },
  {
   "cell_type": "code",
   "execution_count": null,
   "id": "fd8e4590-5da8-42ef-8724-f5e9012e80d3",
   "metadata": {},
   "outputs": [],
   "source": []
  }
 ],
 "metadata": {
  "kernelspec": {
   "display_name": "Python 3 (ipykernel)",
   "language": "python",
   "name": "python3"
  },
  "language_info": {
   "codemirror_mode": {
    "name": "ipython",
    "version": 3
   },
   "file_extension": ".py",
   "mimetype": "text/x-python",
   "name": "python",
   "nbconvert_exporter": "python",
   "pygments_lexer": "ipython3",
   "version": "3.7.4"
  }
 },
 "nbformat": 4,
 "nbformat_minor": 5
}
